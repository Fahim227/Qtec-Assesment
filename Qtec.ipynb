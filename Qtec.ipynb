{
  "nbformat": 4,
  "nbformat_minor": 0,
  "metadata": {
    "colab": {
      "name": "Qtec.ipynb",
      "provenance": []
    },
    "kernelspec": {
      "name": "python3",
      "display_name": "Python 3"
    },
    "language_info": {
      "name": "python"
    }
  },
  "cells": [
    {
      "cell_type": "code",
      "source": [
        "cities = [\"Rabat\",\n",
        "      \"Sueca\", \n",
        "      \"Rudow\", \n",
        "      \"Mosu\", \n",
        "      \"Le Plessis Trevise\", \n",
        "      \"Kang Dong\", \n",
        "      \"Nezahualcóyotl\", \n",
        "      \"Lindenwold\", \n",
        "      \"Queanbeyan\", \n",
        "      \"Saint Chamond\", \n",
        "      \"Cheektowaga\",\n",
        "      \"Tirupati\",\n",
        "      \"Snezhinsk\",\n",
        "      \"Glazov\",\n",
        "      \"Gaoyou\",\n",
        "      \"Nola\",\n",
        "      \"Rutigliano\",\n",
        "      \"Colombo\",\n",
        "      \"Meckenheim\",\n",
        "      \"Hamburg\",\n",
        "]\n",
        "distances = [1063,\n",
        "2656,\n",
        "1352,\n",
        "1841,\n",
        "61,\n",
        "1634,\n",
        "151,\n",
        "285,\n",
        "146,\n",
        "11,\n",
        "380,\n",
        "2547,\n",
        "2524,\n",
        "97,\n",
        "6999,\n",
        "63,\n",
        "105,\n",
        "244,\n",
        "502,\n",
        "30,\n",
        "]\n",
        "sum = 0\n",
        "for i in distances:\n",
        "  sum+=i\n",
        "print(sum-30)"
      ],
      "metadata": {
        "colab": {
          "base_uri": "https://localhost:8080/"
        },
        "id": "hdpcDbToXai-",
        "outputId": "ae92e5ae-8913-4b61-9106-73050862dad1"
      },
      "execution_count": 70,
      "outputs": [
        {
          "output_type": "stream",
          "name": "stdout",
          "text": [
            "22661\n"
          ]
        }
      ]
    },
    {
      "cell_type": "code",
      "execution_count": 76,
      "metadata": {
        "id": "tMgmh_0C_xm2"
      },
      "outputs": [],
      "source": [
        "import math\n",
        "def shortest_path(graph,source):\n",
        "  global distances\n",
        "  global cities\n",
        "  nodes = {}\n",
        "\n",
        "  for city in cities:\n",
        "    nodes[city] = {\"weight\":math.inf,\"route_from\":\"\"}\n",
        "  nodes[cities[0]][\"weight\"] = 0\n",
        "  nodes[cities[0]][\"route_from\"] = cities[0]\n",
        "  # print(nodes)\n",
        "  visited = []\n",
        "  path = []\n",
        "  for city in graph:\n",
        "    # print(city)\n",
        "    if city not in visited:\n",
        "      visited.append(city)\n",
        "      for item in graph[city]:\n",
        "        if item not in visited:\n",
        "          w = graph[city][item] + nodes[city][\"weight\"]\n",
        "          if w < nodes[item][\"weight\"]:\n",
        "            nodes[item][\"weight\"] = w\n",
        "            nodes[item][\"route_from\"] += nodes[city][\"route_from\"]+\"->\"+item\n",
        "  print(\"Shortest Distances: \", nodes['Hamburg'][\"weight\"])\n",
        "  print(\"Shortest Path: \", nodes['Hamburg'][\"route_from\"])"
      ]
    },
    {
      "cell_type": "code",
      "source": [
        "graph = []\n",
        "\n",
        "d = {}\n",
        "for i in range(0,len(cities)):\n",
        "  if i == len(cities)-1 :\n",
        "    graph.append([cities[i],cities[-1],distances[i]])\n",
        "    d[cities[i]] = {cities[-1]: distances[i]}\n",
        "  else:\n",
        "    graph.append([cities[i],cities[i+1],distances[i]])\n",
        "    d[cities[i]] = {cities[i+1]: distances[i]}\n",
        "shortest_path(d,cities[0])"
      ],
      "metadata": {
        "colab": {
          "base_uri": "https://localhost:8080/"
        },
        "id": "Oa4yUPZx__U8",
        "outputId": "0bf7f239-05a3-4c60-fe1f-20ad85bf600f"
      },
      "execution_count": 77,
      "outputs": [
        {
          "output_type": "stream",
          "name": "stdout",
          "text": [
            "Shortest Distances:  22661\n",
            "Shortest Path:  Rabat->Sueca->Rudow->Mosu->Le Plessis Trevise->Kang Dong->Nezahualcóyotl->Lindenwold->Queanbeyan->Saint Chamond->Cheektowaga->Tirupati->Snezhinsk->Glazov->Gaoyou->Nola->Rutigliano->Colombo->Meckenheim->Hamburg\n"
          ]
        }
      ]
    },
    {
      "cell_type": "code",
      "source": [
        ""
      ],
      "metadata": {
        "id": "5sdBP6kmCUEl"
      },
      "execution_count": null,
      "outputs": []
    }
  ]
}